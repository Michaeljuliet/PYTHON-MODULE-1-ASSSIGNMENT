{
 "cells": [
  {
   "cell_type": "code",
   "execution_count": 1,
   "id": "0ea22a86",
   "metadata": {},
   "outputs": [
    {
     "name": "stdout",
     "output_type": "stream",
     "text": [
      "Payment Slip for Worker_1: Salary = $33928, Level = Standard\n",
      "Payment Slip for Worker_2: Salary = $26838, Level = Standard\n",
      "Payment Slip for Worker_3: Salary = $26317, Level = Standard\n",
      "Payment Slip for Worker_4: Salary = $20335, Level = B2\n",
      "Payment Slip for Worker_5: Salary = $15658, Level = B2\n",
      "Payment Slip for Worker_6: Salary = $19696, Level = B2\n",
      "Payment Slip for Worker_7: Salary = $15009, Level = B2\n",
      "Payment Slip for Worker_8: Salary = $15397, Level = B2\n",
      "Payment Slip for Worker_9: Salary = $16722, Level = B2\n",
      "Payment Slip for Worker_10: Salary = $11296, Level = Standard\n"
     ]
    }
   ],
   "source": [
    "import random\n",
    "\n",
    "# Step 2: Generate a list of 400 workers dynamically with varying salary ranges\n",
    "workers = []\n",
    "for i in range(400):\n",
    "    worker = {\n",
    "        'name': f'Worker_{i + 1}',\n",
    "        'gender': random.choice(['Male', 'Female']),\n",
    "        'salary': random.randint(8000, 35000)  # Slightly different salary range\n",
    "    }\n",
    "    workers.append(worker)\n",
    "\n",
    "# Step 5: Exception handling is implemented to manage potential errors\n",
    "def generate_payment_slips_v2(workers):\n",
    "    payment_slips = []\n",
    "    \n",
    "    for worker in workers:\n",
    "        try:\n",
    "            # Step 4: Conditional logic is slightly different\n",
    "            if worker['salary'] >= 15000 and worker['salary'] < 25000:\n",
    "                worker['level'] = 'B2'\n",
    "            elif worker['salary'] > 9000 and worker['salary'] < 20000 and worker['gender'] == 'Female':\n",
    "                worker['level'] = 'B5-F'\n",
    "            else:\n",
    "                worker['level'] = 'Standard'  # Default level for other cases\n",
    "            \n",
    "            # Generate the payment slip\n",
    "            payment_slip = f\"Payment Slip for {worker['name']}: Salary = ${worker['salary']}, Level = {worker['level']}\"\n",
    "            payment_slips.append(payment_slip)\n",
    "        \n",
    "        except KeyError as ke:\n",
    "            print(f\"KeyError: {ke} for worker {worker['name']}.\")\n",
    "        except Exception as e:\n",
    "            print(f\"An unexpected error occurred for worker {worker['name']}: {e}\")\n",
    "    \n",
    "    return payment_slips\n",
    "\n",
    "# Step 3: Generate payment slips for all workers\n",
    "payment_slips_v2 = generate_payment_slips_v2(workers)\n",
    "\n",
    "# Display a sample of payment slips\n",
    "for slip in payment_slips_v2[:10]:\n",
    "    print(slip)\n"
   ]
  },
  {
   "cell_type": "code",
   "execution_count": null,
   "id": "a498de40",
   "metadata": {},
   "outputs": [],
   "source": []
  }
 ],
 "metadata": {
  "kernelspec": {
   "display_name": "Python 3 (ipykernel)",
   "language": "python",
   "name": "python3"
  },
  "language_info": {
   "codemirror_mode": {
    "name": "ipython",
    "version": 3
   },
   "file_extension": ".py",
   "mimetype": "text/x-python",
   "name": "python",
   "nbconvert_exporter": "python",
   "pygments_lexer": "ipython3",
   "version": "3.10.9"
  }
 },
 "nbformat": 4,
 "nbformat_minor": 5
}
